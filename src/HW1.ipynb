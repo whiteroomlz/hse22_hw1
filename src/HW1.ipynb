{
  "nbformat": 4,
  "nbformat_minor": 0,
  "metadata": {
    "colab": {
      "provenance": [],
      "collapsed_sections": []
    },
    "kernelspec": {
      "name": "python3",
      "display_name": "Python 3"
    },
    "language_info": {
      "name": "python"
    }
  },
  "cells": [
    {
      "cell_type": "markdown",
      "source": [
        "# Основная часть"
      ],
      "metadata": {
        "id": "KB1pEb-vMpOC"
      }
    },
    {
      "cell_type": "code",
      "execution_count": 101,
      "metadata": {
        "id": "_wbFYTN9kbWi"
      },
      "outputs": [],
      "source": [
        "import re\n",
        "import numpy as np\n",
        "from typing import DefaultDict\n",
        "from collections import defaultdict"
      ]
    },
    {
      "cell_type": "code",
      "source": [
        "def get_statictics(path: str) -> DefaultDict[str, int]:\n",
        "    segments = list()\n",
        "    output = defaultdict(int)\n",
        "\n",
        "    with open(path, 'r') as stream_reader:\n",
        "        for line in stream_reader:\n",
        "            if line.startswith('>'):\n",
        "                output['overall_count'] += 1\n",
        "\n",
        "                contig = int(re.findall(r\"len(\\d+)_\", line)[0])\n",
        "                segments.append(contig)\n",
        "                output['overall_length'] += contig\n",
        "    segments = np.array(segments)\n",
        "    \n",
        "    sorted_indexes = np.argsort(segments)[::-1]\n",
        "    output['max_single_length'] = segments[sorted_indexes][0]\n",
        "    output['max_single_length_idx'] = sorted_indexes[0]\n",
        "\n",
        "    overall_score = 0.0\n",
        "    for contig in segments[sorted_indexes]:\n",
        "        overall_score += contig\n",
        "        if overall_score >= 0.5 * output['overall_length']:\n",
        "            output['N50'] = contig\n",
        "            return output"
      ],
      "metadata": {
        "id": "e0vcyAaXMrwk"
      },
      "execution_count": 102,
      "outputs": []
    },
    {
      "cell_type": "markdown",
      "source": [
        "### Статистика по контигам"
      ],
      "metadata": {
        "id": "j4e_Qx24SGvQ"
      }
    },
    {
      "cell_type": "code",
      "source": [
        "contigs_stats = get_statictics(\"Poil_contig.fa\")\n",
        "print(f\"Общее количество контигов: {contigs_stats['overall_count']}\")\n",
        "print(f\"Общая длина контигов: {contigs_stats['overall_length']}\")\n",
        "print(f\"Длина наибольшего контига: {contigs_stats['max_single_length']}\")\n",
        "print(f\"N50: {contigs_stats['N50']}\")"
      ],
      "metadata": {
        "colab": {
          "base_uri": "https://localhost:8080/"
        },
        "id": "oI9iySyUOgYa",
        "outputId": "7cd23d61-0949-4888-bfdb-328ecf70c651"
      },
      "execution_count": 103,
      "outputs": [
        {
          "output_type": "stream",
          "name": "stdout",
          "text": [
            "Общее количество контигов: 619\n",
            "Общая длина контигов: 3926043\n",
            "Длина наибольшего контига: 129537\n",
            "N50: 49851\n"
          ]
        }
      ]
    },
    {
      "cell_type": "markdown",
      "source": [
        "### Статистика по скаффолдам"
      ],
      "metadata": {
        "id": "XizBDDI0VdmZ"
      }
    },
    {
      "cell_type": "code",
      "source": [
        "scaffolds_stats = get_statictics(\"Poil_scaffold.fa\")\n",
        "print(f\"Общее количество скаффолдов: {scaffolds_stats['overall_count']}\")\n",
        "print(f\"Общая длина скаффолдов: {scaffolds_stats['overall_length']}\")\n",
        "print(f\"Длина наибольшего скаффолда: {scaffolds_stats['max_single_length']}\")\n",
        "print(f\"N50: {scaffolds_stats['N50']}\")"
      ],
      "metadata": {
        "colab": {
          "base_uri": "https://localhost:8080/"
        },
        "id": "og1o08Y1VgnY",
        "outputId": "a1732a5e-0989-43b2-d29f-d04087b29c6d"
      },
      "execution_count": 104,
      "outputs": [
        {
          "output_type": "stream",
          "name": "stdout",
          "text": [
            "Общее количество скаффолдов: 72\n",
            "Общая длина скаффолдов: 3876363\n",
            "Длина наибольшего скаффолда: 3833080\n",
            "N50: 3833080\n"
          ]
        }
      ]
    },
    {
      "cell_type": "code",
      "source": [
        "def get_sequence(path, start_index):\n",
        "    sequence_parts = list()\n",
        "    with open(path, 'r') as stream_reader:\n",
        "        lines = stream_reader.readlines()\n",
        "        for line in lines[(start_index + 1):]:\n",
        "            if line.startswith('>'):\n",
        "                break\n",
        "            else:\n",
        "                sequence_parts.append(line)\n",
        "    \n",
        "    return re.sub(r\"[\\s\\n\\r]+\", \"\", \"\".join(sequence_parts))"
      ],
      "metadata": {
        "id": "0jM0Ufyea6AQ"
      },
      "execution_count": 105,
      "outputs": []
    },
    {
      "cell_type": "code",
      "source": [
        "longest_scaffold = get_sequence(\"Poil_scaffold.fa\", scaffolds_stats['max_single_length_idx'])\n",
        "\n",
        "with open('longest.fasta', 'w') as stream_writer:\n",
        "    stream_writer.write(longest_scaffold)"
      ],
      "metadata": {
        "id": "EIM3lFB1dL_s"
      },
      "execution_count": 106,
      "outputs": []
    },
    {
      "cell_type": "code",
      "source": [
        "print(f\"Общая длина гэпов: {longest_scaffold.count('N')}\")"
      ],
      "metadata": {
        "colab": {
          "base_uri": "https://localhost:8080/"
        },
        "id": "FFjkPhZdeHoj",
        "outputId": "f23d2695-40e2-4964-8a08-e8a6ba27dfcb"
      },
      "execution_count": 107,
      "outputs": [
        {
          "output_type": "stream",
          "name": "stdout",
          "text": [
            "Общая длина гэпов: 7199\n"
          ]
        }
      ]
    },
    {
      "cell_type": "code",
      "source": [
        "longest_scaffold_gaps_tokenized = re.sub(r\"N+\", \"[GAP]\", longest_scaffold)\n",
        "print(f\"Количество гэпов: {longest_scaffold_gaps_tokenized.count('[GAP]')}\")"
      ],
      "metadata": {
        "colab": {
          "base_uri": "https://localhost:8080/"
        },
        "id": "bYpRYjMfeJS_",
        "outputId": "b3ee40c5-d649-413c-fe0c-dd0766429810"
      },
      "execution_count": 108,
      "outputs": [
        {
          "output_type": "stream",
          "name": "stdout",
          "text": [
            "Количество гэпов: 64\n"
          ]
        }
      ]
    },
    {
      "cell_type": "markdown",
      "source": [
        "### Статистика по уменьшенному количеству гэпов"
      ],
      "metadata": {
        "id": "xdwwrnD_fmcy"
      }
    },
    {
      "cell_type": "code",
      "source": [
        "with open(\"Poil_gapClosed.fa\", 'r') as stream_reader:\n",
        "    max_length = 0\n",
        "    indexes = list()\n",
        "    current_length = 0\n",
        "    for index, line in enumerate(stream_reader):\n",
        "        if line.startswith('>'):\n",
        "            if current_length > max_length:\n",
        "                max_length = current_length\n",
        "                longest_scaffold_short_gaps_start = indexes[-1]\n",
        "            current_length = 0\n",
        "            indexes.append(index)\n",
        "        else:\n",
        "            current_length += len(line)"
      ],
      "metadata": {
        "id": "ZG0jaZMWgpxv"
      },
      "execution_count": 109,
      "outputs": []
    },
    {
      "cell_type": "code",
      "source": [
        "longest_scaffold_short_gaps = get_sequence(\"Poil_gapClosed.fa\", longest_scaffold_short_gaps_start)"
      ],
      "metadata": {
        "id": "42U7gNuuhixp"
      },
      "execution_count": 110,
      "outputs": []
    },
    {
      "cell_type": "code",
      "source": [
        "print(f\"Общая длина гэпов: {longest_scaffold_short_gaps.count('N')}\")"
      ],
      "metadata": {
        "colab": {
          "base_uri": "https://localhost:8080/"
        },
        "id": "UTo4greRjAZj",
        "outputId": "93b72e66-cf4f-44e5-9245-aa145d7c3fd7"
      },
      "execution_count": 111,
      "outputs": [
        {
          "output_type": "stream",
          "name": "stdout",
          "text": [
            "Общая длина гэпов: 2298\n"
          ]
        }
      ]
    },
    {
      "cell_type": "code",
      "source": [
        "longest_scaffold_short_gaps_tokenized = re.sub(r\"N+\", \"[GAP]\", longest_scaffold_short_gaps)\n",
        "print(f\"Количество гэпов: {longest_scaffold_short_gaps_tokenized.count('[GAP]')}\")"
      ],
      "metadata": {
        "colab": {
          "base_uri": "https://localhost:8080/"
        },
        "id": "q9qWqCBvjD4B",
        "outputId": "c4d0d76f-c8a2-499a-8e68-4510db3145fe"
      },
      "execution_count": 112,
      "outputs": [
        {
          "output_type": "stream",
          "name": "stdout",
          "text": [
            "Количество гэпов: 9\n"
          ]
        }
      ]
    }
  ]
}